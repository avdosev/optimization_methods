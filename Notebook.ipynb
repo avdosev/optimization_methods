{
 "cells": [
  {
   "cell_type": "code",
   "execution_count": 4,
   "metadata": {},
   "outputs": [],
   "source": [
    "class FibonacciImpl:\n",
    "    arr = [0,1,1]\n",
    "\n",
    "    def calculate(self, num: int):\n",
    "        if num < len(self.arr):\n",
    "            return self.arr[num]\n",
    "        else:\n",
    "            for i in range(len(self.arr)-1, num):\n",
    "                new_fib = self.arr[i-1] + self.arr[i]\n",
    "                self.arr.append(new_fib)\n",
    "            return self.arr[num]\n",
    "\n",
    "fib_impl = FibonacciImpl()\n",
    "\n",
    "def fib(num):\n",
    "    global fib_impl\n",
    "    return fib_impl.calculate(num)\n",
    "\n",
    "def metod_fib(func, a, b, eps=0.001, sigma=0.001 / 10):\n",
    "    N = int((b - a) / (2 * eps))\n",
    "    print('tyt N - ',N)\n",
    "    x1 = a + fib(N - 2) / fib(N) * (b - a)\n",
    "    x2 = a + fib(N - 1) / fib(N) * (b - a)\n",
    "    for k in range(2, N - 2):\n",
    "        if func(x1) <= func(x2):\n",
    "            b = x2\n",
    "            x2 = x1\n",
    "            x1 = a + fib(N - k - 3) / fib(N - k - 1) * (b - a)\n",
    "        else:\n",
    "            a = x1\n",
    "            x1 = x2\n",
    "            x2 = a + fib(N - k - 2) / fib(N - k - 1) * (b - a)\n",
    "    x2 = x1 + sigma\n",
    "    if func(x1) <= func(x2):\n",
    "        b = x2\n",
    "    else:\n",
    "        a = x1\n",
    "    return (a + b) / 2"
   ]
  },
  {
   "cell_type": "code",
   "execution_count": 5,
   "metadata": {},
   "outputs": [],
   "source": [
    "import math\n",
    "\n",
    "def func_1(x):\n",
    "    return 4*x**3 - 8*x**2 - 11*x + 5\n",
    "\n",
    "def func_2(x):\n",
    "    return x + 3/(x**2)\n",
    "\n",
    "def func_3(x):\n",
    "    return (x+2.5)/(4-x**2)\n",
    "\n",
    "def func_4(x):\n",
    "    return -math.sin(x) - (math.sin(3*x)/3)\n",
    "\n",
    "def func_5(x):\n",
    "    return -2*math.sin(x) - math.sin(2*x) - (2*math.sin(3*x)/3)\n",
    "\n",
    "arr_of_func = [func_1, func_2,func_3,func_4,func_5]\n",
    "minimization_point = [1,1,0,1.5,1.5]\n",
    "\n",
    "def test_fib():\n",
    "    print(\"Fib test\")\n",
    "    lineSearch = [\n",
    "        [0, 10],\n",
    "        [0, 3],\n",
    "        [0, 3],\n",
    "        [-2, 2],\n",
    "        [0, 3]\n",
    "        #[0,5]\n",
    "    ]\n",
    "    expected = [1.833, 1.817, 0, 0.785, 0.785]\n",
    "    for i, item in enumerate(lineSearch):\n",
    "        print(\"\\nTEST \", i+1)\n",
    "        res = metod_fib(arr_of_func[i], lineSearch[i][0], lineSearch[i][1], eps=0.01) # 0.001 вызовет рекурсивное зацикливание, не делай так\n",
    "\n",
    "        print(\"Экспериментально:\", res)\n",
    "        print(\"Ожидаемо\", expected[i])"
   ]
  },
  {
   "cell_type": "code",
   "execution_count": 6,
   "metadata": {},
   "outputs": [
    {
     "name": "stdout",
     "output_type": "stream",
     "text": [
      "Fib test\n",
      "\n",
      "TEST  1\n",
      "tyt N -  500\n",
      "Экспериментально: 1.8333833266279527\n",
      "Ожидаемо 1.833\n",
      "\n",
      "TEST  2\n",
      "tyt N -  150\n",
      "Экспериментально: 1.8171705868511066\n",
      "Ожидаемо 1.817\n",
      "\n",
      "TEST  3\n",
      "tyt N -  150\n",
      "Экспериментально: 5e-05\n",
      "Ожидаемо 0\n",
      "\n",
      "TEST  4\n",
      "tyt N -  200\n",
      "Экспериментально: 0.7854481657883541\n",
      "Ожидаемо 0.785\n",
      "\n",
      "TEST  5\n",
      "tyt N -  150\n",
      "Экспериментально: 0.7854481551599574\n",
      "Ожидаемо 0.785\n"
     ]
    }
   ],
   "source": [
    "test_fib()"
   ]
  },
  {
   "cell_type": "code",
   "execution_count": null,
   "metadata": {},
   "outputs": [],
   "source": []
  }
 ],
 "metadata": {
  "kernelspec": {
   "display_name": "Python 3",
   "language": "python",
   "name": "python3"
  },
  "language_info": {
   "codemirror_mode": {
    "name": "ipython",
    "version": 3
   },
   "file_extension": ".py",
   "mimetype": "text/x-python",
   "name": "python",
   "nbconvert_exporter": "python",
   "pygments_lexer": "ipython3",
   "version": "3.7.3"
  }
 },
 "nbformat": 4,
 "nbformat_minor": 2
}
